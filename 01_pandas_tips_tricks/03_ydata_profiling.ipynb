{
 "cells": [
  {
   "cell_type": "markdown",
   "metadata": {},
   "source": [
    "# Autometic EDA using `ydata_profiling`"
   ]
  },
  {
   "cell_type": "code",
   "execution_count": 2,
   "metadata": {},
   "outputs": [],
   "source": [
    "# import libraries \n",
    "import pandas as pd\n",
    "import seaborn as sns\n",
    "import ydata_profiling as yd "
   ]
  },
  {
   "cell_type": "code",
   "execution_count": 3,
   "metadata": {},
   "outputs": [],
   "source": [
    "# import data from seaborn\n",
    "df = sns.load_dataset('titanic')"
   ]
  },
  {
   "cell_type": "code",
   "execution_count": 4,
   "metadata": {},
   "outputs": [
    {
     "name": "stderr",
     "output_type": "stream",
     "text": [
      "Summarize dataset:   0%|          | 0/5 [00:00<?, ?it/s]"
     ]
    },
    {
     "name": "stderr",
     "output_type": "stream",
     "text": [
      "Summarize dataset:  77%|███████▋  | 17/22 [00:01<00:00, 24.33it/s, Calculate auto correlation]   c:\\Users\\Sibtain_Ali\\.conda\\envs\\ydata_profiling\\Lib\\site-packages\\ydata_profiling\\model\\correlations.py:66: UserWarning: There was an attempt to calculate the auto correlation, but this failed.\n",
      "To hide this warning, disable the calculation\n",
      "(using `df.profile_report(correlations={\"auto\": {\"calculate\": False}})`\n",
      "If this is problematic for your use case, please report this as an issue:\n",
      "https://github.com/ydataai/ydata-profiling/issues\n",
      "(include the error message: 'Function <code object pandas_auto_compute at 0x0000023D3972DB40, file \"c:\\Users\\Sibtain_Ali\\.conda\\envs\\ydata_profiling\\Lib\\site-packages\\ydata_profiling\\model\\pandas\\correlations_pandas.py\", line 164>')\n",
      "  warnings.warn(\n",
      "Summarize dataset:  88%|████████▊ | 36/41 [00:07<00:03,  1.53it/s, Missing diagram heatmap]   c:\\Users\\Sibtain_Ali\\.conda\\envs\\ydata_profiling\\Lib\\site-packages\\seaborn\\matrix.py:260: FutureWarning: Format strings passed to MaskedConstant are ignored, but in future may error or produce different behavior\n",
      "  annotation = (\"{:\" + self.fmt + \"}\").format(val)\n",
      "c:\\Users\\Sibtain_Ali\\.conda\\envs\\ydata_profiling\\Lib\\site-packages\\ydata_profiling\\model\\missing.py:78: UserWarning: There was an attempt to generate the Heatmap missing values diagrams, but this failed.\n",
      "To hide this warning, disable the calculation\n",
      "(using `df.profile_report(missing_diagrams={\"Heatmap\": False}`)\n",
      "If this is problematic for your use case, please report this as an issue:\n",
      "https://github.com/ydataai/ydata-profiling/issues\n",
      "(include the error message: 'could not convert string to float: '--'')\n",
      "  warnings.warn(\n",
      "Summarize dataset: 100%|██████████| 41/41 [00:08<00:00,  5.08it/s, Completed]               \n",
      "Generate report structure: 100%|██████████| 1/1 [00:12<00:00, 12.53s/it]\n",
      "Render HTML: 100%|██████████| 1/1 [00:03<00:00,  3.72s/it]\n",
      "Export report to file: 100%|██████████| 1/1 [00:00<00:00, 43.52it/s]\n"
     ]
    }
   ],
   "source": [
    "# ydata profile report\n",
    "profile = yd.ProfileReport(df)\n",
    "profile.to_file(output_file='./outputs/03_ydata_titanic.html')"
   ]
  },
  {
   "cell_type": "markdown",
   "metadata": {},
   "source": [
    "# Do it on our Pakistan Population Dataset"
   ]
  },
  {
   "cell_type": "code",
   "execution_count": 5,
   "metadata": {},
   "outputs": [],
   "source": [
    "df_pop = pd.read_csv(\"./Data/data.csv\")"
   ]
  },
  {
   "cell_type": "code",
   "execution_count": 6,
   "metadata": {},
   "outputs": [
    {
     "name": "stderr",
     "output_type": "stream",
     "text": [
      "Summarize dataset:   4%|▍         | 1/26 [00:00<00:06,  3.96it/s, Describe variable:PROVINCE]"
     ]
    },
    {
     "name": "stderr",
     "output_type": "stream",
     "text": [
      "Summarize dataset:  82%|████████▏ | 23/28 [00:00<00:00, 35.85it/s, Calculate auto correlation]                  c:\\Users\\Sibtain_Ali\\.conda\\envs\\ydata_profiling\\Lib\\site-packages\\ydata_profiling\\model\\correlations.py:66: UserWarning: There was an attempt to calculate the auto correlation, but this failed.\n",
      "To hide this warning, disable the calculation\n",
      "(using `df.profile_report(correlations={\"auto\": {\"calculate\": False}})`\n",
      "If this is problematic for your use case, please report this as an issue:\n",
      "https://github.com/ydataai/ydata-profiling/issues\n",
      "(include the error message: 'could not convert string to float: 'BAHAWALPUR DIVISION'')\n",
      "  warnings.warn(\n",
      "Summarize dataset: 100%|██████████| 319/319 [01:20<00:00,  3.97it/s, Completed]                                                     \n",
      "Generate report structure: 100%|██████████| 1/1 [00:17<00:00, 17.61s/it]\n",
      "Render HTML: 100%|██████████| 1/1 [00:20<00:00, 20.11s/it]\n",
      "Export report to file: 100%|██████████| 1/1 [00:00<00:00,  7.85it/s]\n"
     ]
    }
   ],
   "source": [
    "# ydata profile report\n",
    "profile = yd.ProfileReport(df_pop)\n",
    "profile.to_file(output_file='./outputs/03b_ydata_pak_poluation.html')"
   ]
  }
 ],
 "metadata": {
  "kernelspec": {
   "display_name": "ydata_profiling",
   "language": "python",
   "name": "python3"
  },
  "language_info": {
   "codemirror_mode": {
    "name": "ipython",
    "version": 3
   },
   "file_extension": ".py",
   "mimetype": "text/x-python",
   "name": "python",
   "nbconvert_exporter": "python",
   "pygments_lexer": "ipython3",
   "version": "3.11.7"
  }
 },
 "nbformat": 4,
 "nbformat_minor": 2
}
