{
 "cells": [
  {
   "cell_type": "markdown",
   "metadata": {},
   "source": [
    "# Important Models"
   ]
  },
  {
   "cell_type": "markdown",
   "metadata": {},
   "source": [
    "|       Category       |                                     Algorithms                                     |\n",
    "|----------------------|------------------------------------------------------------------------------------|\n",
    "|Supervised Learning   |Linear Regression, Multiple Linear Regression, Polynomial Regression, Ridge         |\n",
    "|                      |Regression, Lasso Regression, Elastic Net, Logistic Regression, Decision Trees,     |\n",
    "|                      |Random Forest, Gradient Boosting, XGBoost, LightGBM, CatBoost, Naive Bayes,         |\n",
    "|                      | Support Vector Machines (SVM), k-Nearest Neighbors (k-NN), Linear Discriminant     |\n",
    "|                      |Analysis, Quadratic Discriminant Analysis                                           |\n",
    "|Unsupervised          |K-Means Clustering, Hierarchical Clustering, DBSCAN, Principal Component Analysis   | \n",
    "|Learning              |(PCA), Singular Value Decomposition (SVD), Gaussian Mixture Models, Self-Organizing |\n",
    "|                      |Maps                                                                                |\n",
    "|Reinforcement Learning|Q-Learning, SARSA (State-Action-Reward-State-Action), Deep Q Network (DQN) Policy   |\n",
    "|                      |Gradients, Actor-Critic Methods, Monte Carlo Methods                                |\n",
    "|Neural Networks       |Perceptron, Multi-layer Perceptrons (MLP), Convolutional Neural Networks (CNNs),    |\n",
    "|and Deep Learning     |Recurrent Neural Networks (RNNs), Long Short-Term Memory Networks (LSTMs),          |\n",
    "|                      |Generative Adversarial Networks (GANs), Transformer Networks, Autoencoders          |\n",
    "|Ensemble Methods      |Bagging, Boosting, Stacking, Random Forest, Gradient Boosting Machines (GBM),       |\n",
    "|                      |AdaBoost, XGBoost, LightGBM, CatBoost                                               |\n",
    "|Dimensionality        |Principal Component Analysis (PCA), Linear Discriminant Analysis (LDA),             |\n",
    "|Reduction             |t-Distributed Stochastic Neighbor Embedding (t-SNE), Uniform Manifold Approximation |\n",
    "|                      |and Projection (UMAP)                                                               |"
   ]
  },
  {
   "cell_type": "markdown",
   "metadata": {},
   "source": []
  }
 ],
 "metadata": {
  "kernelspec": {
   "display_name": "tensorflow",
   "language": "python",
   "name": "python3"
  },
  "language_info": {
   "name": "python",
   "version": "3.8.18"
  }
 },
 "nbformat": 4,
 "nbformat_minor": 2
}
