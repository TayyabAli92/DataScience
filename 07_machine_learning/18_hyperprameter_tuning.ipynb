{
 "cells": [
  {
   "cell_type": "markdown",
   "metadata": {},
   "source": [
    "# Hyperprameter tuning \n",
    "\n",
    "Hyperprameter tuning is the process of finding the best combination of hyperprameter for a given model.\n",
    "\n",
    "**Types:**\n",
    "\n",
    "- Grid Search: Exhaustive search over all combination of hyperparmeters.\n",
    "- Random Search: Randomly sample combinations of hyperprameter from a give distribution.\n",
    "- Bayesian Optimization: Model the objective function and search for the maximum.\n",
    "- Gradient-based Optimization: Use gradient descent to find the minimum of the objective function."
   ]
  },
  {
   "cell_type": "markdown",
   "metadata": {},
   "source": [
    "# Cross Validation\n",
    "\n",
    "Cross validation is a technique used to evaluate the performance of a model on unseen data. It is used to check how well the model generalizes to new data."
   ]
  },
  {
   "cell_type": "code",
   "execution_count": 1,
   "metadata": {},
   "outputs": [],
   "source": [
    "# Import libraries \n",
    "from sklearn.ensemble import RandomForestClassifier\n",
    "from sklearn.model_selection import train_test_split, GridSearchCV\n",
    "from sklearn.metrics import accuracy_score, confusion_matrix, classification_report"
   ]
  },
  {
   "cell_type": "code",
   "execution_count": 2,
   "metadata": {},
   "outputs": [],
   "source": [
    "# load the dataset \n",
    "from sklearn.datasets import load_iris\n",
    "\n",
    "iris = load_iris()\n",
    "X = iris.data\n",
    "y = iris.target"
   ]
  },
  {
   "cell_type": "code",
   "execution_count": 3,
   "metadata": {},
   "outputs": [
    {
     "name": "stderr",
     "output_type": "stream",
     "text": [
      "c:\\Users\\Sibtain_Ali\\.conda\\envs\\python_ml\\Lib\\site-packages\\sklearn\\model_selection\\_validation.py:425: FitFailedWarning: \n",
      "420 fits failed out of a total of 1260.\n",
      "The score on these train-test partitions for these parameters will be set to nan.\n",
      "If these failures are not expected, you can try to debug them by setting error_score='raise'.\n",
      "\n",
      "Below are more details about the failures:\n",
      "--------------------------------------------------------------------------------\n",
      "192 fits failed with the following error:\n",
      "Traceback (most recent call last):\n",
      "  File \"c:\\Users\\Sibtain_Ali\\.conda\\envs\\python_ml\\Lib\\site-packages\\sklearn\\model_selection\\_validation.py\", line 729, in _fit_and_score\n",
      "    estimator.fit(X_train, y_train, **fit_params)\n",
      "  File \"c:\\Users\\Sibtain_Ali\\.conda\\envs\\python_ml\\Lib\\site-packages\\sklearn\\base.py\", line 1145, in wrapper\n",
      "    estimator._validate_params()\n",
      "  File \"c:\\Users\\Sibtain_Ali\\.conda\\envs\\python_ml\\Lib\\site-packages\\sklearn\\base.py\", line 638, in _validate_params\n",
      "    validate_parameter_constraints(\n",
      "  File \"c:\\Users\\Sibtain_Ali\\.conda\\envs\\python_ml\\Lib\\site-packages\\sklearn\\utils\\_param_validation.py\", line 96, in validate_parameter_constraints\n",
      "    raise InvalidParameterError(\n",
      "sklearn.utils._param_validation.InvalidParameterError: The 'max_features' parameter of RandomForestClassifier must be an int in the range [1, inf), a float in the range (0.0, 1.0], a str among {'log2', 'sqrt'} or None. Got 'auto' instead.\n",
      "\n",
      "--------------------------------------------------------------------------------\n",
      "228 fits failed with the following error:\n",
      "Traceback (most recent call last):\n",
      "  File \"c:\\Users\\Sibtain_Ali\\.conda\\envs\\python_ml\\Lib\\site-packages\\sklearn\\model_selection\\_validation.py\", line 729, in _fit_and_score\n",
      "    estimator.fit(X_train, y_train, **fit_params)\n",
      "  File \"c:\\Users\\Sibtain_Ali\\.conda\\envs\\python_ml\\Lib\\site-packages\\sklearn\\base.py\", line 1145, in wrapper\n",
      "    estimator._validate_params()\n",
      "  File \"c:\\Users\\Sibtain_Ali\\.conda\\envs\\python_ml\\Lib\\site-packages\\sklearn\\base.py\", line 638, in _validate_params\n",
      "    validate_parameter_constraints(\n",
      "  File \"c:\\Users\\Sibtain_Ali\\.conda\\envs\\python_ml\\Lib\\site-packages\\sklearn\\utils\\_param_validation.py\", line 96, in validate_parameter_constraints\n",
      "    raise InvalidParameterError(\n",
      "sklearn.utils._param_validation.InvalidParameterError: The 'max_features' parameter of RandomForestClassifier must be an int in the range [1, inf), a float in the range (0.0, 1.0], a str among {'sqrt', 'log2'} or None. Got 'auto' instead.\n",
      "\n",
      "  warnings.warn(some_fits_failed_message, FitFailedWarning)\n",
      "c:\\Users\\Sibtain_Ali\\.conda\\envs\\python_ml\\Lib\\site-packages\\sklearn\\model_selection\\_search.py:979: UserWarning: One or more of the test scores are non-finite: [       nan        nan        nan        nan        nan        nan\n",
      " 0.96       0.96       0.96666667 0.96666667 0.96       0.96666667\n",
      " 0.95333333 0.95333333 0.96666667 0.96       0.96666667 0.96\n",
      "        nan        nan        nan        nan        nan        nan\n",
      " 0.95333333 0.96666667 0.96666667 0.96       0.96666667 0.96\n",
      " 0.96       0.96       0.96       0.96       0.96       0.96666667\n",
      "        nan        nan        nan        nan        nan        nan\n",
      " 0.96666667 0.96       0.96666667 0.96       0.96666667 0.96666667\n",
      " 0.96666667 0.96       0.96       0.96666667 0.96       0.96\n",
      "        nan        nan        nan        nan        nan        nan\n",
      " 0.95333333 0.96       0.96       0.96666667 0.96       0.96\n",
      " 0.95333333 0.96666667 0.96666667 0.96       0.96       0.96\n",
      "        nan        nan        nan        nan        nan        nan\n",
      " 0.96666667 0.96       0.96666667 0.96666667 0.96       0.96\n",
      " 0.96666667 0.95333333 0.96666667 0.96666667 0.96666667 0.96666667\n",
      "        nan        nan        nan        nan        nan        nan\n",
      " 0.96       0.96       0.96666667 0.96666667 0.96666667 0.96666667\n",
      " 0.96       0.96       0.96       0.96666667 0.96       0.96666667\n",
      "        nan        nan        nan        nan        nan        nan\n",
      " 0.96       0.96       0.96666667 0.96666667 0.96       0.96\n",
      " 0.95333333 0.96       0.96666667 0.96       0.96       0.96666667\n",
      "        nan        nan        nan        nan        nan        nan\n",
      " 0.96666667 0.94666667 0.96       0.96666667 0.96666667 0.96666667\n",
      " 0.95333333 0.96666667 0.96666667 0.96       0.96       0.96\n",
      "        nan        nan        nan        nan        nan        nan\n",
      " 0.96       0.96       0.96       0.96       0.96       0.96666667\n",
      " 0.96666667 0.96       0.96       0.96666667 0.96666667 0.96666667\n",
      "        nan        nan        nan        nan        nan        nan\n",
      " 0.96666667 0.96       0.96       0.96       0.96       0.96666667\n",
      " 0.96       0.96666667 0.96       0.96666667 0.96666667 0.96666667\n",
      "        nan        nan        nan        nan        nan        nan\n",
      " 0.95333333 0.96       0.96666667 0.96666667 0.96666667 0.96\n",
      " 0.96       0.96       0.96       0.96666667 0.96       0.96666667\n",
      "        nan        nan        nan        nan        nan        nan\n",
      " 0.96       0.96666667 0.96666667 0.96       0.96666667 0.96666667\n",
      " 0.95333333 0.96       0.96       0.96666667 0.96666667 0.96666667\n",
      "        nan        nan        nan        nan        nan        nan\n",
      " 0.96       0.96666667 0.96       0.96666667 0.96666667 0.96666667\n",
      " 0.96666667 0.96666667 0.96       0.96       0.96       0.96666667\n",
      "        nan        nan        nan        nan        nan        nan\n",
      " 0.96666667 0.96666667 0.96666667 0.96666667 0.96666667 0.96666667\n",
      " 0.95333333 0.96666667 0.96666667 0.96       0.96666667 0.96      ]\n",
      "  warnings.warn(\n"
     ]
    },
    {
     "name": "stdout",
     "output_type": "stream",
     "text": [
      "Best parameters: {grid.best_params_}\n",
      "CPU times: total: 10.8 s\n",
      "Wall time: 5min 15s\n"
     ]
    }
   ],
   "source": [
    "%%time\n",
    "# define the model \n",
    "model = RandomForestClassifier()\n",
    "\n",
    "# create the parameter grid \n",
    "param_grid = {\n",
    "    'n_estimators': [50, 100, 200, 300, 400, 500],\n",
    "    'max_features' : ['auto', 'sqrt', 'log2'],\n",
    "    'max_depth' : [4, 5, 6, 7, 8, 9, 10],\n",
    "    'criterion' : ['gini', 'entropy']\n",
    "}\n",
    "\n",
    "# set up the grid \n",
    "grid = GridSearchCV(\n",
    "    estimator=model,\n",
    "    param_grid=param_grid,\n",
    "    scoring='accuracy',\n",
    "    cv=5,\n",
    "    n_jobs=-1\n",
    ")\n",
    "\n",
    "# fit the model\n",
    "grid.fit(X, y)\n",
    "\n",
    "# print the best parameter \n",
    "print(\"Best parameters: {grid.best_params_}\")"
   ]
  },
  {
   "cell_type": "code",
   "execution_count": 5,
   "metadata": {},
   "outputs": [
    {
     "name": "stdout",
     "output_type": "stream",
     "text": [
      "Fitting 5 folds for each of 20 candidates, totalling 100 fits\n"
     ]
    },
    {
     "name": "stderr",
     "output_type": "stream",
     "text": [
      "c:\\Users\\Sibtain_Ali\\.conda\\envs\\python_ml\\Lib\\site-packages\\sklearn\\model_selection\\_validation.py:425: FitFailedWarning: \n",
      "40 fits failed out of a total of 100.\n",
      "The score on these train-test partitions for these parameters will be set to nan.\n",
      "If these failures are not expected, you can try to debug them by setting error_score='raise'.\n",
      "\n",
      "Below are more details about the failures:\n",
      "--------------------------------------------------------------------------------\n",
      "24 fits failed with the following error:\n",
      "Traceback (most recent call last):\n",
      "  File \"c:\\Users\\Sibtain_Ali\\.conda\\envs\\python_ml\\Lib\\site-packages\\sklearn\\model_selection\\_validation.py\", line 729, in _fit_and_score\n",
      "    estimator.fit(X_train, y_train, **fit_params)\n",
      "  File \"c:\\Users\\Sibtain_Ali\\.conda\\envs\\python_ml\\Lib\\site-packages\\sklearn\\base.py\", line 1145, in wrapper\n",
      "    estimator._validate_params()\n",
      "  File \"c:\\Users\\Sibtain_Ali\\.conda\\envs\\python_ml\\Lib\\site-packages\\sklearn\\base.py\", line 638, in _validate_params\n",
      "    validate_parameter_constraints(\n",
      "  File \"c:\\Users\\Sibtain_Ali\\.conda\\envs\\python_ml\\Lib\\site-packages\\sklearn\\utils\\_param_validation.py\", line 96, in validate_parameter_constraints\n",
      "    raise InvalidParameterError(\n",
      "sklearn.utils._param_validation.InvalidParameterError: The 'max_features' parameter of RandomForestClassifier must be an int in the range [1, inf), a float in the range (0.0, 1.0], a str among {'log2', 'sqrt'} or None. Got 'auto' instead.\n",
      "\n",
      "--------------------------------------------------------------------------------\n",
      "16 fits failed with the following error:\n",
      "Traceback (most recent call last):\n",
      "  File \"c:\\Users\\Sibtain_Ali\\.conda\\envs\\python_ml\\Lib\\site-packages\\sklearn\\model_selection\\_validation.py\", line 729, in _fit_and_score\n",
      "    estimator.fit(X_train, y_train, **fit_params)\n",
      "  File \"c:\\Users\\Sibtain_Ali\\.conda\\envs\\python_ml\\Lib\\site-packages\\sklearn\\base.py\", line 1145, in wrapper\n",
      "    estimator._validate_params()\n",
      "  File \"c:\\Users\\Sibtain_Ali\\.conda\\envs\\python_ml\\Lib\\site-packages\\sklearn\\base.py\", line 638, in _validate_params\n",
      "    validate_parameter_constraints(\n",
      "  File \"c:\\Users\\Sibtain_Ali\\.conda\\envs\\python_ml\\Lib\\site-packages\\sklearn\\utils\\_param_validation.py\", line 96, in validate_parameter_constraints\n",
      "    raise InvalidParameterError(\n",
      "sklearn.utils._param_validation.InvalidParameterError: The 'max_features' parameter of RandomForestClassifier must be an int in the range [1, inf), a float in the range (0.0, 1.0], a str among {'sqrt', 'log2'} or None. Got 'auto' instead.\n",
      "\n",
      "  warnings.warn(some_fits_failed_message, FitFailedWarning)\n",
      "c:\\Users\\Sibtain_Ali\\.conda\\envs\\python_ml\\Lib\\site-packages\\sklearn\\model_selection\\_search.py:979: UserWarning: One or more of the test scores are non-finite: [0.96666667        nan        nan        nan        nan 0.95333333\n",
      "        nan 0.96666667 0.95333333 0.96666667 0.96666667 0.96666667\n",
      "        nan        nan 0.96666667 0.96              nan 0.95333333\n",
      " 0.96       0.96666667]\n",
      "  warnings.warn(\n"
     ]
    },
    {
     "name": "stdout",
     "output_type": "stream",
     "text": [
      "Best parameters: {grid.best_params_}\n",
      "CPU times: total: 828 ms\n",
      "Wall time: 19.5 s\n"
     ]
    }
   ],
   "source": [
    "%%time\n",
    "\n",
    "from sklearn.model_selection import RandomizedSearchCV\n",
    "# define the model \n",
    "model = RandomForestClassifier()\n",
    "\n",
    "# create the parameter grid \n",
    "param_grid = {\n",
    "    'n_estimators': [50, 100, 200, 300, 400, 500],\n",
    "    'max_features' : ['auto', 'sqrt', 'log2'],\n",
    "    'max_depth' : [4, 5, 6, 7, 8, 9, 10],\n",
    "    'criterion' : ['gini', 'entropy']\n",
    "}\n",
    "\n",
    "# set up the grid \n",
    "grid = RandomizedSearchCV(\n",
    "    estimator=model,\n",
    "    param_distributions=param_grid,\n",
    "    cv=5,\n",
    "    scoring='accuracy',\n",
    "    verbose=1,\n",
    "    n_jobs=-1,\n",
    "    n_iter=20\n",
    ")\n",
    "\n",
    "# fit the model\n",
    "grid.fit(X, y)\n",
    "\n",
    "# print the best parameter \n",
    "print(\"Best parameters: {grid.best_params_}\")"
   ]
  }
 ],
 "metadata": {
  "kernelspec": {
   "display_name": "python_ml",
   "language": "python",
   "name": "python3"
  },
  "language_info": {
   "codemirror_mode": {
    "name": "ipython",
    "version": 3
   },
   "file_extension": ".py",
   "mimetype": "text/x-python",
   "name": "python",
   "nbconvert_exporter": "python",
   "pygments_lexer": "ipython3",
   "version": "3.11.5"
  }
 },
 "nbformat": 4,
 "nbformat_minor": 2
}
